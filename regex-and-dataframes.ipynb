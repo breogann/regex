{
 "cells": [
  {
   "cell_type": "code",
   "execution_count": 1,
   "id": "protecting-belief",
   "metadata": {},
   "outputs": [],
   "source": [
    "import pandas as pd\n",
    "import re"
   ]
  },
  {
   "cell_type": "code",
   "execution_count": 2,
   "id": "married-winner",
   "metadata": {},
   "outputs": [
    {
     "data": {
      "text/html": [
       "<div>\n",
       "<style scoped>\n",
       "    .dataframe tbody tr th:only-of-type {\n",
       "        vertical-align: middle;\n",
       "    }\n",
       "\n",
       "    .dataframe tbody tr th {\n",
       "        vertical-align: top;\n",
       "    }\n",
       "\n",
       "    .dataframe thead th {\n",
       "        text-align: right;\n",
       "    }\n",
       "</style>\n",
       "<table border=\"1\" class=\"dataframe\">\n",
       "  <thead>\n",
       "    <tr style=\"text-align: right;\">\n",
       "      <th></th>\n",
       "      <th>nombre</th>\n",
       "      <th>apellido</th>\n",
       "      <th>mensaje</th>\n",
       "      <th>input</th>\n",
       "    </tr>\n",
       "  </thead>\n",
       "  <tbody>\n",
       "    <tr>\n",
       "      <th>0</th>\n",
       "      <td>paula</td>\n",
       "      <td>fernandez</td>\n",
       "      <td>dni 7777777y</td>\n",
       "      <td>el lunes tuve 37, el martes 39</td>\n",
       "    </tr>\n",
       "    <tr>\n",
       "      <th>1</th>\n",
       "      <td>aitor</td>\n",
       "      <td>rodriguez</td>\n",
       "      <td>hola mi dni es 12345678X</td>\n",
       "      <td>tengo 39 grados</td>\n",
       "    </tr>\n",
       "    <tr>\n",
       "      <th>2</th>\n",
       "      <td>carolina</td>\n",
       "      <td>perez</td>\n",
       "      <td>062626200w</td>\n",
       "      <td>37C, 36.5C, 38ºC</td>\n",
       "    </tr>\n",
       "  </tbody>\n",
       "</table>\n",
       "</div>"
      ],
      "text/plain": [
       "     nombre   apellido                   mensaje  \\\n",
       "0     paula  fernandez              dni 7777777y   \n",
       "1     aitor  rodriguez  hola mi dni es 12345678X   \n",
       "2  carolina      perez                062626200w   \n",
       "\n",
       "                            input  \n",
       "0  el lunes tuve 37, el martes 39  \n",
       "1                 tengo 39 grados  \n",
       "2                37C, 36.5C, 38ºC  "
      ]
     },
     "execution_count": 2,
     "metadata": {},
     "output_type": "execute_result"
    }
   ],
   "source": [
    "df = pd.read_csv(\"info.csv\")\n",
    "df.head()"
   ]
  },
  {
   "cell_type": "markdown",
   "id": "subsequent-lawyer",
   "metadata": {},
   "source": [
    "### 1. Definir el patrón"
   ]
  },
  {
   "cell_type": "code",
   "execution_count": 3,
   "id": "independent-mission",
   "metadata": {},
   "outputs": [],
   "source": [
    "patron_dni = r\"(\\d{7,8}-*[A-Za-z])\""
   ]
  },
  {
   "cell_type": "code",
   "execution_count": 4,
   "id": "impressed-annual",
   "metadata": {},
   "outputs": [],
   "source": [
    "fiebre = r'(\\d{2}[\\.\\d{1,2}]*[ºCc]*\\b)'"
   ]
  },
  {
   "cell_type": "markdown",
   "id": "irish-patrol",
   "metadata": {},
   "source": [
    "### 2. Definir función o lambda"
   ]
  },
  {
   "cell_type": "code",
   "execution_count": 5,
   "id": "rental-birmingham",
   "metadata": {},
   "outputs": [],
   "source": [
    "def coincidencia (patron, string):\n",
    "    dni = re.search(patron, string)\n",
    "    return dni.group()"
   ]
  },
  {
   "cell_type": "code",
   "execution_count": 6,
   "id": "aging-corruption",
   "metadata": {},
   "outputs": [],
   "source": [
    "def lista_coincidencias (patron, string):\n",
    "    dni = re.findall(patron, string)\n",
    "    return dni"
   ]
  },
  {
   "cell_type": "markdown",
   "id": "clear-december",
   "metadata": {},
   "source": [
    "### 3. Aplicar la función a un DF"
   ]
  },
  {
   "cell_type": "code",
   "execution_count": 7,
   "id": "hired-organic",
   "metadata": {},
   "outputs": [
    {
     "data": {
      "text/html": [
       "<div>\n",
       "<style scoped>\n",
       "    .dataframe tbody tr th:only-of-type {\n",
       "        vertical-align: middle;\n",
       "    }\n",
       "\n",
       "    .dataframe tbody tr th {\n",
       "        vertical-align: top;\n",
       "    }\n",
       "\n",
       "    .dataframe thead th {\n",
       "        text-align: right;\n",
       "    }\n",
       "</style>\n",
       "<table border=\"1\" class=\"dataframe\">\n",
       "  <thead>\n",
       "    <tr style=\"text-align: right;\">\n",
       "      <th></th>\n",
       "      <th>nombre</th>\n",
       "      <th>apellido</th>\n",
       "      <th>mensaje</th>\n",
       "      <th>input</th>\n",
       "      <th>DNI_REGEX</th>\n",
       "    </tr>\n",
       "  </thead>\n",
       "  <tbody>\n",
       "    <tr>\n",
       "      <th>0</th>\n",
       "      <td>paula</td>\n",
       "      <td>fernandez</td>\n",
       "      <td>dni 7777777y</td>\n",
       "      <td>el lunes tuve 37, el martes 39</td>\n",
       "      <td>7777777y</td>\n",
       "    </tr>\n",
       "    <tr>\n",
       "      <th>1</th>\n",
       "      <td>aitor</td>\n",
       "      <td>rodriguez</td>\n",
       "      <td>hola mi dni es 12345678X</td>\n",
       "      <td>tengo 39 grados</td>\n",
       "      <td>12345678X</td>\n",
       "    </tr>\n",
       "    <tr>\n",
       "      <th>2</th>\n",
       "      <td>carolina</td>\n",
       "      <td>perez</td>\n",
       "      <td>062626200w</td>\n",
       "      <td>37C, 36.5C, 38ºC</td>\n",
       "      <td>62626200w</td>\n",
       "    </tr>\n",
       "  </tbody>\n",
       "</table>\n",
       "</div>"
      ],
      "text/plain": [
       "     nombre   apellido                   mensaje  \\\n",
       "0     paula  fernandez              dni 7777777y   \n",
       "1     aitor  rodriguez  hola mi dni es 12345678X   \n",
       "2  carolina      perez                062626200w   \n",
       "\n",
       "                            input  DNI_REGEX  \n",
       "0  el lunes tuve 37, el martes 39   7777777y  \n",
       "1                 tengo 39 grados  12345678X  \n",
       "2                37C, 36.5C, 38ºC  62626200w  "
      ]
     },
     "execution_count": 7,
     "metadata": {},
     "output_type": "execute_result"
    }
   ],
   "source": [
    "df['DNI_REGEX'] = df.mensaje.apply(lambda x: coincidencia(patron_dni, x))\n",
    "df.head()"
   ]
  },
  {
   "cell_type": "code",
   "execution_count": 8,
   "id": "capable-object",
   "metadata": {},
   "outputs": [
    {
     "data": {
      "text/html": [
       "<div>\n",
       "<style scoped>\n",
       "    .dataframe tbody tr th:only-of-type {\n",
       "        vertical-align: middle;\n",
       "    }\n",
       "\n",
       "    .dataframe tbody tr th {\n",
       "        vertical-align: top;\n",
       "    }\n",
       "\n",
       "    .dataframe thead th {\n",
       "        text-align: right;\n",
       "    }\n",
       "</style>\n",
       "<table border=\"1\" class=\"dataframe\">\n",
       "  <thead>\n",
       "    <tr style=\"text-align: right;\">\n",
       "      <th></th>\n",
       "      <th>nombre</th>\n",
       "      <th>apellido</th>\n",
       "      <th>mensaje</th>\n",
       "      <th>input</th>\n",
       "      <th>DNI_REGEX</th>\n",
       "      <th>fiebre_REGEX</th>\n",
       "    </tr>\n",
       "  </thead>\n",
       "  <tbody>\n",
       "    <tr>\n",
       "      <th>0</th>\n",
       "      <td>paula</td>\n",
       "      <td>fernandez</td>\n",
       "      <td>dni 7777777y</td>\n",
       "      <td>el lunes tuve 37, el martes 39</td>\n",
       "      <td>7777777y</td>\n",
       "      <td>[37, 39]</td>\n",
       "    </tr>\n",
       "    <tr>\n",
       "      <th>1</th>\n",
       "      <td>aitor</td>\n",
       "      <td>rodriguez</td>\n",
       "      <td>hola mi dni es 12345678X</td>\n",
       "      <td>tengo 39 grados</td>\n",
       "      <td>12345678X</td>\n",
       "      <td>[39]</td>\n",
       "    </tr>\n",
       "    <tr>\n",
       "      <th>2</th>\n",
       "      <td>carolina</td>\n",
       "      <td>perez</td>\n",
       "      <td>062626200w</td>\n",
       "      <td>37C, 36.5C, 38ºC</td>\n",
       "      <td>62626200w</td>\n",
       "      <td>[37C, 36.5C, 38ºC]</td>\n",
       "    </tr>\n",
       "  </tbody>\n",
       "</table>\n",
       "</div>"
      ],
      "text/plain": [
       "     nombre   apellido                   mensaje  \\\n",
       "0     paula  fernandez              dni 7777777y   \n",
       "1     aitor  rodriguez  hola mi dni es 12345678X   \n",
       "2  carolina      perez                062626200w   \n",
       "\n",
       "                            input  DNI_REGEX        fiebre_REGEX  \n",
       "0  el lunes tuve 37, el martes 39   7777777y            [37, 39]  \n",
       "1                 tengo 39 grados  12345678X                [39]  \n",
       "2                37C, 36.5C, 38ºC  62626200w  [37C, 36.5C, 38ºC]  "
      ]
     },
     "execution_count": 8,
     "metadata": {},
     "output_type": "execute_result"
    }
   ],
   "source": [
    "df['fiebre_REGEX'] = df.input.apply(lambda x: lista_coincidencias(fiebre, x))\n",
    "df.head()"
   ]
  }
 ],
 "metadata": {
  "kernelspec": {
   "display_name": "Python 3",
   "language": "python",
   "name": "python3"
  },
  "language_info": {
   "codemirror_mode": {
    "name": "ipython",
    "version": 3
   },
   "file_extension": ".py",
   "mimetype": "text/x-python",
   "name": "python",
   "nbconvert_exporter": "python",
   "pygments_lexer": "ipython3",
   "version": "3.9.2"
  }
 },
 "nbformat": 4,
 "nbformat_minor": 5
}
