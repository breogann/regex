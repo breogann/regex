{
 "cells": [
  {
   "cell_type": "markdown",
   "metadata": {},
   "source": [
    "# 2. Regex in python  🐍  \n",
    "\n",
    "2.1. FINDING the pattern <br />\n",
    "        2.1.1. Search<br />\n",
    "        2.1.2. Match<br />\n",
    "        2.1.3. Find all<br />\n",
    "\n",
    "\n",
    "2.2 WORKING with the pattern<br />\n",
    "            2.2.1. sub<br />\n",
    "            2.2.2. split"
   ]
  },
  {
   "cell_type": "markdown",
   "metadata": {},
   "source": [
    "### 2.0. Installation and imports"
   ]
  },
  {
   "cell_type": "code",
   "execution_count": null,
   "metadata": {},
   "outputs": [],
   "source": [
    "!pip3 install regex #instal"
   ]
  },
  {
   "cell_type": "code",
   "execution_count": null,
   "metadata": {},
   "outputs": [],
   "source": [
    "# Remember that you can run any command in the temrinal from jupyter notebook by using an opening \"!\".\n",
    "# This might come in handy for example for installations and also for \"ls\" and \"pwd\"."
   ]
  },
  {
   "cell_type": "code",
   "execution_count": null,
   "metadata": {},
   "outputs": [],
   "source": [
    "#import re, numpy, pandas\n",
    "\n",
    "import re\n",
    "import numpy as np\n",
    "import pandas as pd"
   ]
  },
  {
   "cell_type": "markdown",
   "metadata": {},
   "source": [
    "### Some examples of regex with python"
   ]
  },
  {
   "cell_type": "markdown",
   "metadata": {},
   "source": [
    "##### matching \"abc\""
   ]
  },
  {
   "cell_type": "code",
   "execution_count": null,
   "metadata": {},
   "outputs": [],
   "source": [
    "my_text = 'abc . / [ ba bc ba,b 913 bc...abc bac 34 34 +12abc abcabc' #string"
   ]
  },
  {
   "cell_type": "code",
   "execution_count": null,
   "metadata": {},
   "outputs": [],
   "source": [
    "pattern = r'abc' #pattern"
   ]
  },
  {
   "cell_type": "code",
   "execution_count": null,
   "metadata": {},
   "outputs": [],
   "source": [
    "#What the r does: takes the string as raw\n",
    "\n",
    "print('\\tHola')\n",
    "print(r'\\tHola')"
   ]
  },
  {
   "cell_type": "code",
   "execution_count": null,
   "metadata": {},
   "outputs": [],
   "source": [
    "matches = re.findall(pattern, my_text)\n",
    "matches"
   ]
  },
  {
   "cell_type": "markdown",
   "metadata": {},
   "source": [
    "##### matching an email"
   ]
  },
  {
   "cell_type": "code",
   "execution_count": null,
   "metadata": {},
   "outputs": [],
   "source": [
    "correo_electronico = \"hola@ih.com, random string, micorreopersonal@outlook.es\" #string"
   ]
  },
  {
   "cell_type": "code",
   "execution_count": null,
   "metadata": {},
   "outputs": [],
   "source": [
    "patron_correo = r'(\\w+)@([\\w\\.]+)' #pattern"
   ]
  },
  {
   "cell_type": "code",
   "execution_count": null,
   "metadata": {},
   "outputs": [],
   "source": [
    "encontrar_correo = re.findall(patron_correo, correo_electronico)\n",
    "encontrar_correo"
   ]
  },
  {
   "cell_type": "markdown",
   "metadata": {},
   "source": [
    "### 📚 So far:\n",
    "\n",
    "- the R at the beggining of the pattern makes it RAW text.\n",
    "- The module re needs a function (eg.: findall), a pattern and a string"
   ]
  },
  {
   "cell_type": "markdown",
   "metadata": {},
   "source": [
    "## 2.1. FINDING the pattern 🔎\n",
    "2.1.1. Search <br />\n",
    "2.1.2. Match <br />\n",
    "2.1.3. Find all"
   ]
  },
  {
   "cell_type": "markdown",
   "metadata": {},
   "source": [
    "### 2.1.1. Search\n",
    "\n",
    "**search()**: Scan through a string, looking for any location where this RE matches.\n",
    "\n",
    "- **takes:** pattern (regex) + string<br/>\n",
    "- **returns:** an object"
   ]
  },
  {
   "cell_type": "markdown",
   "metadata": {},
   "source": [
    "#### Example: email"
   ]
  },
  {
   "cell_type": "code",
   "execution_count": null,
   "metadata": {},
   "outputs": [],
   "source": [
    "email = \"Hi my name is Alice and my email is Alice@mycompany.com\" #string"
   ]
  },
  {
   "cell_type": "code",
   "execution_count": null,
   "metadata": {},
   "outputs": [],
   "source": [
    "pattern = r'(\\w+)@([\\w\\.]+)' #pattern"
   ]
  },
  {
   "cell_type": "code",
   "execution_count": null,
   "metadata": {},
   "outputs": [],
   "source": [
    "el_search = re.search(pattern, email) #re.search(pattern, string)"
   ]
  },
  {
   "cell_type": "code",
   "execution_count": null,
   "metadata": {},
   "outputs": [],
   "source": [
    "el_search"
   ]
  },
  {
   "cell_type": "code",
   "execution_count": null,
   "metadata": {},
   "outputs": [],
   "source": [
    "type(el_search)"
   ]
  },
  {
   "cell_type": "code",
   "execution_count": null,
   "metadata": {},
   "outputs": [],
   "source": [
    "todo = el_search.group()\n",
    "nombre = el_search.group(1)\n",
    "dominio = el_search.group(2)"
   ]
  },
  {
   "cell_type": "code",
   "execution_count": null,
   "metadata": {},
   "outputs": [],
   "source": [
    "print(todo)\n",
    "print(nombre)\n",
    "print(dominio)"
   ]
  },
  {
   "cell_type": "markdown",
   "metadata": {},
   "source": [
    "#### Example: \"The rain in Spain\""
   ]
  },
  {
   "cell_type": "code",
   "execution_count": null,
   "metadata": {},
   "outputs": [],
   "source": [
    "#re.search\n",
    "re.search(pattern, text)"
   ]
  },
  {
   "cell_type": "code",
   "execution_count": null,
   "metadata": {},
   "outputs": [],
   "source": [
    "text = \"The rain in Spain\""
   ]
  },
  {
   "cell_type": "code",
   "execution_count": null,
   "metadata": {},
   "outputs": [],
   "source": [
    "my_string = \"The rains in Spain. The rain in Spain\"\n",
    "a = re.search(r'^The.*Spain$',my_second_string)\n",
    "a"
   ]
  },
  {
   "cell_type": "markdown",
   "metadata": {},
   "source": [
    "#### Example 2: \"The rain in Spain\" - Search elements"
   ]
  },
  {
   "cell_type": "code",
   "execution_count": null,
   "metadata": {},
   "outputs": [],
   "source": [
    "txt = \"The rain in Spain\"\n",
    "\n",
    "#\\b whole words only\n",
    "x = re.search(r\"\\bS\\w+\", txt)\n",
    "\n",
    "# We can get elements of search: span, start, end, string, group \n",
    "print(x.span())\n",
    "print(x.start())\n",
    "print(x.end())\n",
    "print(x.group())"
   ]
  },
  {
   "cell_type": "code",
   "execution_count": null,
   "metadata": {},
   "outputs": [],
   "source": [
    "# In a loop:"
   ]
  },
  {
   "cell_type": "code",
   "execution_count": null,
   "metadata": {},
   "outputs": [],
   "source": [
    "my_text = 'abc . / [ ba bc ba,b 913 bc...abc bac 34 34 +12abc abcabc' #string"
   ]
  },
  {
   "cell_type": "code",
   "execution_count": null,
   "metadata": {},
   "outputs": [],
   "source": [
    "patron = re.compile(r'abc')\n",
    "match = patron.finditer(my_text)\n",
    "\n",
    "for i in match:\n",
    "    print(i)"
   ]
  },
  {
   "cell_type": "markdown",
   "metadata": {},
   "source": [
    "### 2.1.2. Match"
   ]
  },
  {
   "cell_type": "markdown",
   "metadata": {},
   "source": [
    "**re.match():** Checks if the RE is at the beggining of the string\n",
    "\n",
    "- **takes:** pattern (regex) + string<br/>\n",
    "- **returns:** an object"
   ]
  },
  {
   "cell_type": "markdown",
   "metadata": {},
   "source": [
    "re.match(pattern, string)"
   ]
  },
  {
   "cell_type": "code",
   "execution_count": null,
   "metadata": {},
   "outputs": [],
   "source": [
    "pattern = r\"Cookie\""
   ]
  },
  {
   "cell_type": "code",
   "execution_count": null,
   "metadata": {},
   "outputs": [],
   "source": [
    "sequence = \"I want a Cookie\"\n",
    "sequence2 = \"Cookie, I want you!\""
   ]
  },
  {
   "cell_type": "code",
   "execution_count": null,
   "metadata": {},
   "outputs": [],
   "source": [
    "if re.match(pattern, sequence):\n",
    "    print(\"Match!\")\n",
    "else:\n",
    "    print(\"No match :(\")"
   ]
  },
  {
   "cell_type": "code",
   "execution_count": null,
   "metadata": {},
   "outputs": [],
   "source": [
    "if re.match(pattern, sequence2):\n",
    "    print(\"Match!\")\n",
    "else:\n",
    "    print(\"No match :(\")"
   ]
  },
  {
   "cell_type": "code",
   "execution_count": null,
   "metadata": {},
   "outputs": [],
   "source": [
    "a = re.match(pattern, sequence2)"
   ]
  },
  {
   "cell_type": "code",
   "execution_count": null,
   "metadata": {},
   "outputs": [],
   "source": [
    "txt = \"The rain in Spain\"\n",
    "\n",
    "\n",
    "#matches at the beginning of the string\n",
    "\n",
    "\n",
    "print(re.match(r'r\\w*', txt)) #this pattern would match \"rain\", BUT it'ts not at the beggining\n",
    "print(re.match(r'^r\\w*', txt))\n",
    "\n",
    "print(re.match(r'^T\\w*', txt)) #this pattern would match the \"The\", which IS at the beggining\n",
    "print(re.match(r'T\\w*', txt))"
   ]
  },
  {
   "cell_type": "code",
   "execution_count": null,
   "metadata": {},
   "outputs": [],
   "source": [
    "# What I can find with groups:"
   ]
  },
  {
   "cell_type": "code",
   "execution_count": null,
   "metadata": {},
   "outputs": [],
   "source": [
    "email_address = 'Please contact us at: support@data.mad.com, hola'\n",
    "encuentra = re.search(r'(\\w+)@([\\.\\w]+)', email_address)\n",
    "\n",
    "print(\"El objeto: \", encuentra)"
   ]
  },
  {
   "cell_type": "code",
   "execution_count": null,
   "metadata": {},
   "outputs": [],
   "source": [
    "# The groups that search return:\n",
    "\n",
    "for i in range(3):\n",
    "    print(f\"Grupo {i}: \", encuentra.group(i))"
   ]
  },
  {
   "cell_type": "markdown",
   "metadata": {},
   "source": [
    "### 📚 So far:\n",
    "\n",
    "- Both search and match are similar methods.\n",
    "- Search looks for the pattern in **any** location of the string\n",
    "- Match looks for the pattern at the **beggining** of the string\n",
    "- Search & Match both return an **object**\n",
    "- This objects have information such as: the match itself, the location of the match.\n",
    "- They both take two arguments: **pattern** (the regex itself) & **string**"
   ]
  },
  {
   "cell_type": "markdown",
   "metadata": {},
   "source": [
    "### 2.1.3. Find all"
   ]
  },
  {
   "cell_type": "markdown",
   "metadata": {},
   "source": [
    "**re.findall()**: finds all matches.\n",
    "\n",
    "- **takes:** pattern (regex) + string<br/>\n",
    "- **returns:** a list"
   ]
  },
  {
   "cell_type": "code",
   "execution_count": null,
   "metadata": {},
   "outputs": [],
   "source": [
    "emails = \"rastas@ironhack.es, f€lipe@ih.eu, shEri_fffff@aironjad.edu, fern4ndocosta@aironjan.ih\""
   ]
  },
  {
   "cell_type": "code",
   "execution_count": null,
   "metadata": {},
   "outputs": [],
   "source": [
    "email_pattern = r'[\\w+]@[\\w\\.]+'"
   ]
  },
  {
   "cell_type": "code",
   "execution_count": null,
   "metadata": {},
   "outputs": [],
   "source": [
    "matches = re.findall(email_pattern, emails)\n",
    "matches"
   ]
  },
  {
   "cell_type": "markdown",
   "metadata": {},
   "source": [
    "### 📚 So far:\n",
    "\n",
    "- While search/match return an object, findall returns a **list**"
   ]
  },
  {
   "cell_type": "markdown",
   "metadata": {},
   "source": [
    "## 2. WORKING with the pattern 🛠\n",
    "2.1. sub<br />\n",
    "2.2. split<br />"
   ]
  },
  {
   "cell_type": "markdown",
   "metadata": {},
   "source": [
    "2 .1. **sub()**: Replaces one or many matches with a string\n",
    "\n",
    "- **takes:** pattern (regex) + string to modify + the replacement of the string<br/>\n",
    "- **returns:** the modified string"
   ]
  },
  {
   "cell_type": "markdown",
   "metadata": {},
   "source": [
    "#### Example: "
   ]
  },
  {
   "cell_type": "code",
   "execution_count": null,
   "metadata": {},
   "outputs": [],
   "source": [
    "re.sub(r'i','I',txt) # This capitalizes the I"
   ]
  },
  {
   "cell_type": "code",
   "execution_count": null,
   "metadata": {},
   "outputs": [],
   "source": [
    "txt = \"La vida es una tómbola, tom tom tómbola\""
   ]
  },
  {
   "cell_type": "code",
   "execution_count": null,
   "metadata": {},
   "outputs": [],
   "source": [
    "#re.sub\n",
    "\n",
    "txt2 = re.sub(r't','T',txt)\n",
    "txt2"
   ]
  },
  {
   "cell_type": "code",
   "execution_count": null,
   "metadata": {},
   "outputs": [],
   "source": [
    "txt3 = \"Weeeeeee, estoy haciendo un bootcamp de data en Ironhack???\""
   ]
  },
  {
   "cell_type": "code",
   "execution_count": null,
   "metadata": {},
   "outputs": [],
   "source": [
    "#Escape special character, quantifiers\n",
    "prueba = re.sub(r'\\?{3}','!',txt3)"
   ]
  },
  {
   "cell_type": "code",
   "execution_count": null,
   "metadata": {},
   "outputs": [],
   "source": [
    "prueba"
   ]
  },
  {
   "cell_type": "code",
   "execution_count": null,
   "metadata": {},
   "outputs": [],
   "source": [
    "my_text = \"i have the same code and it doesn't work\""
   ]
  },
  {
   "cell_type": "code",
   "execution_count": null,
   "metadata": {},
   "outputs": [],
   "source": [
    "la_letra = \"HOLA\""
   ]
  },
  {
   "cell_type": "code",
   "execution_count": null,
   "metadata": {},
   "outputs": [],
   "source": [
    "re.sub('i',la_letra, my_text)"
   ]
  },
  {
   "cell_type": "code",
   "execution_count": null,
   "metadata": {},
   "outputs": [],
   "source": [
    "my_text"
   ]
  },
  {
   "cell_type": "code",
   "execution_count": null,
   "metadata": {},
   "outputs": [],
   "source": [
    "print(prueba)"
   ]
  },
  {
   "cell_type": "markdown",
   "metadata": {},
   "source": [
    "2 .2. **split()**: Returns a list where the string has been split at each match\n",
    "\n",
    "- **takes:** pattern (regex) + string<br/>\n",
    "- **returns:** a **list** after the match"
   ]
  },
  {
   "cell_type": "code",
   "execution_count": null,
   "metadata": {},
   "outputs": [],
   "source": [
    "# In the cell below there's a list of strings. We want to split each item on their \"{number}\". "
   ]
  },
  {
   "cell_type": "code",
   "execution_count": null,
   "metadata": {},
   "outputs": [],
   "source": [
    "# Here's the list itself:\n",
    "\n",
    "prophet=['the{7}',\n",
    " 'chosen',\n",
    " 'and',\n",
    " 'the\\nbeloved,',\n",
    " 'who',\n",
    " 'was{34}',\n",
    " 'a',\n",
    " 'dawn',\n",
    " 'unto{6}der',\n",
    " 'his']"
   ]
  },
  {
   "cell_type": "code",
   "execution_count": null,
   "metadata": {},
   "outputs": [],
   "source": [
    "# First, we need to create a function (with the split method) so that we could pass it to every element of the list"
   ]
  },
  {
   "cell_type": "code",
   "execution_count": null,
   "metadata": {},
   "outputs": [],
   "source": [
    "def reference(x):\n",
    "    a = re.split(\"{\\d+}\",x)\n",
    "    return a"
   ]
  },
  {
   "cell_type": "code",
   "execution_count": null,
   "metadata": {},
   "outputs": [],
   "source": [
    "# We check that it does work:\n",
    "reference('the{7}')"
   ]
  },
  {
   "cell_type": "code",
   "execution_count": null,
   "metadata": {},
   "outputs": [],
   "source": [
    "# Now, to apply this function to every element of the list, we use map:\n",
    "\n",
    "prophet_reference = list(map(reference, prophet))\n",
    "print(prophet_reference)"
   ]
  },
  {
   "cell_type": "code",
   "execution_count": null,
   "metadata": {},
   "outputs": [],
   "source": [
    "# Because there's some words that have the reference at the end:\n",
    "\n",
    "def reference(x):\n",
    "    a = re.split(\"{\\d+}\",x)\n",
    "    return a[0] # This way I won't be getting a second empty element as in the first \"the\"\n",
    "\n",
    "prophet_reference = list(map(reference, prophet))\n",
    "print(prophet_reference)"
   ]
  },
  {
   "cell_type": "code",
   "execution_count": null,
   "metadata": {},
   "outputs": [],
   "source": [
    "# But what about the ones that are in between?"
   ]
  },
  {
   "cell_type": "code",
   "execution_count": null,
   "metadata": {},
   "outputs": [],
   "source": [
    "def reference(x):\n",
    "    a = re.split(\"{\\d+}\",x)\n",
    "    return \"\".join(a)\n",
    "\n",
    "prophet_reference = list(map(reference, prophet))\n",
    "print(prophet_reference)"
   ]
  },
  {
   "cell_type": "markdown",
   "metadata": {},
   "source": [
    "### 📚 So far:\n",
    "\n",
    "- Besides getting objects and lists, you can substitute and split after matching a pattern.\n",
    "- You can, of course, use this within functions\n",
    "- sub and split can both be used with python methods: replce & split"
   ]
  }
 ],
 "metadata": {
  "kernelspec": {
   "display_name": "Python 3",
   "language": "python",
   "name": "python3"
  },
  "language_info": {
   "codemirror_mode": {
    "name": "ipython",
    "version": 3
   },
   "file_extension": ".py",
   "mimetype": "text/x-python",
   "name": "python",
   "nbconvert_exporter": "python",
   "pygments_lexer": "ipython3",
   "version": "3.8.5"
  }
 },
 "nbformat": 4,
 "nbformat_minor": 4
}
